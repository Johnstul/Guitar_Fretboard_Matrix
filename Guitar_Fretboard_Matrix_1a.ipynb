{
 "cells": [
  {
   "cell_type": "markdown",
   "metadata": {},
   "source": [
    "# 6-String Guitar Fretboard 6x12 Matrix"
   ]
  },
  {
   "cell_type": "markdown",
   "metadata": {},
   "source": [
    "## Reference Image:\n",
    "\n",
    "https://i.pinimg.com/originals/52/24/fc/5224fc23225cf26e7cb2a6d1c53daee0.jpg"
   ]
  },
  {
   "cell_type": "code",
   "execution_count": 52,
   "metadata": {},
   "outputs": [],
   "source": [
    "import numpy as np\n",
    "\n",
    "from matplotlib.pyplot import plot, show, cm\n",
    "\n",
    "import matplotlib.pyplot as plt"
   ]
  },
  {
   "cell_type": "markdown",
   "metadata": {},
   "source": [
    "## 2 semi-tones (half-steps) represented numerically from A = 1 to G# = 12"
   ]
  },
  {
   "cell_type": "code",
   "execution_count": 28,
   "metadata": {},
   "outputs": [],
   "source": [
    "A = 1\n",
    "As = 2\n",
    "B = 3\n",
    "C = 4\n",
    "Cs = 5\n",
    "D = 6\n",
    "Ds = 7\n",
    "E = 8\n",
    "F = 9\n",
    "Fs = 10\n",
    "G = 11\n",
    "Gs = 12"
   ]
  },
  {
   "cell_type": "markdown",
   "metadata": {},
   "source": [
    "## Import colormaps:"
   ]
  },
  {
   "cell_type": "code",
   "execution_count": 69,
   "metadata": {},
   "outputs": [],
   "source": [
    "# cmap = cm.autumn\n",
    "cmap = cm.Reds\n",
    "# cmap = cm.prism\n",
    "# cmap = cm.jet"
   ]
  },
  {
   "cell_type": "markdown",
   "metadata": {},
   "source": [
    "## Matrix:"
   ]
  },
  {
   "cell_type": "code",
   "execution_count": 70,
   "metadata": {},
   "outputs": [
    {
     "name": "stdout",
     "output_type": "stream",
     "text": [
      "[['F' 'F#' 'G' 'G#' 'A' 'A#' 'B' 'C' 'C#' 'D' 'D#' 'E']\n",
      " ['C' 'C#' 'D' 'D#' 'E' 'F' 'F#' 'G' 'G#' 'A' 'A#' 'B']\n",
      " ['G#' 'A' 'A#' 'B' 'C' 'C#' 'D' 'D#' 'E' 'F' 'F#' 'G']\n",
      " ['D#' 'E' 'F' 'F#' 'G' 'G#' 'A' 'A#' 'B' 'C' 'C#' 'D']\n",
      " ['A#' 'B' 'C' 'C#' 'D' 'D#' 'E' 'F' 'F#' 'G' 'G#' 'A']\n",
      " ['F' 'F#' 'G' 'G#' 'A' 'A#' 'B' 'C' 'C#' 'D' 'D#' 'E']]\n",
      "\t\n",
      "size =  (6, 12)\n",
      "\t\n",
      "[[ 9 10 11 12  1  2  3  4  5  6  7  8]\n",
      " [ 4  5  6  7  8  9 10 11 12  1  2  3]\n",
      " [12  1  2  3  4  5  6  7  8  9 10 11]\n",
      " [ 7  8  9 10 11 12  1  2  3  4  5  6]\n",
      " [ 2  3  4  5  6  7  8  9 10 11 12  1]\n",
      " [ 9 10 11 12  1  2  3  4  5  6  7  8]]\n",
      "\t\n",
      "size =  (6, 12)\n",
      "\t\n"
     ]
    },
    {
     "data": {
      "image/png": "[encoded data removed]",
      "text/plain": [
       "<Figure size 432x288 with 1 Axes>"
      ]
     },
     "metadata": {
      "needs_background": "light"
     },
     "output_type": "display_data"
    }
   ],
   "source": [
    "Fretboard_Matrix_Str = np.array([['F','F#','G','G#','A','A#','B','C','C#','D','D#','E'],\\\n",
    "                                 ['C','C#','D','D#','E','F','F#','G','G#','A','A#','B'],\\\n",
    "                                 ['G#','A','A#','B','C','C#','D','D#','E','F','F#','G'],\\\n",
    "                                 ['D#','E','F','F#','G','G#','A','A#','B','C','C#','D'],\\\n",
    "                                 ['A#','B','C','C#','D','D#','E','F','F#','G','G#','A'],\\\n",
    "                                 ['F','F#','G','G#','A','A#','B','C','C#','D','D#','E']], dtype = object)\n",
    "\n",
    "Fretboard_Matrix_Num = np.array([[F , Fs , G , Gs , A , As , B , C , Cs , D , Ds , E],\\\n",
    "                                 [C , Cs , D , Ds , E , F , Fs , G , Gs , A , As , B],\\\n",
    "                                 [Gs , A , As , B , C , Cs , D , Ds , E , F , Fs , G],\\\n",
    "                                 [Ds , E , F , Fs , G , Gs , A , As , B , C , Cs , D],\\\n",
    "                                 [As , B , C , Cs , D , Ds , E , F , Fs , G , Gs , A],\\\n",
    "                                 [F , Fs , G , Gs , A , As , B , C , Cs , D , Ds , E]])\n",
    "\n",
    "print(Fretboard_Matrix_Str)\n",
    "print('\\t')\n",
    "print('size = ', Fretboard_Matrix_Str.shape)\n",
    "\n",
    "print('\\t')\n",
    "\n",
    "print(Fretboard_Matrix_Num)\n",
    "print('\\t')\n",
    "print('size = ', Fretboard_Matrix_Num.shape)\n",
    "\n",
    "print('\\t')\n",
    "\n",
    "plt.imshow(Fretboard_Matrix_Num, cmap = cmap)\n",
    "plt.show()"
   ]
  },
  {
   "cell_type": "code",
   "execution_count": null,
   "metadata": {},
   "outputs": [],
   "source": []
  }
 ],
 "metadata": {
  "kernelspec": {
   "display_name": "Python 3",
   "language": "python",
   "name": "python3"
  },
  "language_info": {
   "codemirror_mode": {
    "name": "ipython",
    "version": 3
   },
   "file_extension": ".py",
   "mimetype": "text/x-python",
   "name": "python",
   "nbconvert_exporter": "python",
   "pygments_lexer": "ipython3",
   "version": "3.6.11"
  }
 },
 "nbformat": 4,
 "nbformat_minor": 4
}
